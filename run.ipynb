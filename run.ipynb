{
 "cells": [
  {
   "cell_type": "markdown",
   "metadata": {},
   "source": [
    "# BactClassifier Notebook\n",
    "## This jupyter notebook is a summary of workflow adapted towards classifying bacterias"
   ]
  },
  {
   "cell_type": "markdown",
   "metadata": {},
   "source": [
    "### Step 1:\n",
    "### Import Libraries"
   ]
  },
  {
   "cell_type": "code",
   "execution_count": 1,
   "metadata": {},
   "outputs": [],
   "source": [
    "import cv2, glob, os, sys, pickle\n",
    "import numpy as np\n",
    "import tensorflow as tf\n",
    "import pandas as pd\n",
    "from sklearn.preprocessing import LabelEncoder\n",
    "from sklearn.model_selection import train_test_split\n",
    "from sklearn.model_selection import KFold\n",
    "from sklearn.model_selection import cross_val_score\n",
    "from sklearn.svm import SVC\n",
    "from sklearn.metrics import confusion_matrix, accuracy_score"
   ]
  },
  {
   "cell_type": "markdown",
   "metadata": {},
   "source": [
    "### Step 2:\n",
    "### Extract features"
   ]
  },
  {
   "cell_type": "markdown",
   "metadata": {},
   "source": [
    "##### Using InceptionV3 model to extract features"
   ]
  },
  {
   "cell_type": "code",
   "execution_count": 4,
   "metadata": {},
   "outputs": [],
   "source": [
    "model = tf.keras.applications.InceptionV3(include_top=False,\n",
    "                                          weights=\"imagenet\",\n",
    "                                          input_shape=(1532, 2048, 3),\n",
    "                                          pooling=\"avg\")"
   ]
  },
  {
   "cell_type": "markdown",
   "metadata": {},
   "source": [
    "##### Utility function to read Inage file \n",
    "##### Normalizes to 0-1\n",
    "##### Reshapes to a tensor to match InceptionV3 model"
   ]
  },
  {
   "cell_type": "code",
   "execution_count": 5,
   "metadata": {},
   "outputs": [],
   "source": [
    "def readImageFile(path):\n",
    "    try:\n",
    "        I = cv2.imread(path)\n",
    "        I = I / 255\n",
    "        I = np.reshape(I, (1, I.shape[0], I.shape[1], I.shape[2]))\n",
    "    except Exception as e:\n",
    "        print(\"\\nError reading image file\")\n",
    "        print(\"\\nError Message: \" + str(e))\n",
    "        sys.exit(-1)\n",
    "    return I"
   ]
  },
  {
   "cell_type": "markdown",
   "metadata": {},
   "source": [
    "##### Get inage data as list of tensor\n",
    "##### Get labels as list\n",
    "##### Get filenames as list (to track)"
   ]
  },
  {
   "cell_type": "code",
   "execution_count": null,
   "metadata": {},
   "outputs": [],
   "source": [
    "nbPath = os.path.abspath(\"run.ipynb\")\n",
    "dataFolder = os.path.join(os.path.dirname(nbPath), \"data\")\n",
    "classes = glob.glob(os.path.join(dataFolder, \"*\"))\n",
    "\n",
    "labels = []\n",
    "data = []\n",
    "filename = []\n",
    "for label in classes:\n",
    "    classPath = os.path.join(dataFolder, label)\n",
    "    files = glob.glob(os.path.join(classPath, \"*\"))\n",
    "    for imageFile in files:\n",
    "        data.append(readImageFile(imageFile))\n",
    "        filename.append(os.path.split(imageFile)[1])\n",
    "        labels.append(os.path.split(label)[1])"
   ]
  },
  {
   "cell_type": "markdown",
   "metadata": {},
   "source": [
    "##### Feed data to Inception and get features\n",
    "##### Create a dict"
   ]
  },
  {
   "cell_type": "code",
   "execution_count": null,
   "metadata": {},
   "outputs": [],
   "source": [
    "featureDict = {}\n",
    "    print(\"\\nExtracting features from Model\")\n",
    "    for index in range(0, len(data)):\n",
    "        featureDict[filenames[index]] = []\n",
    "        featureDict[filenames[index]] = model.predict(data[index])[0].tolist()\n",
    "        featureDict[filenames[index]].append(labels[index])"
   ]
  },
  {
   "cell_type": "markdown",
   "metadata": {},
   "source": [
    "##### Writing features to a csv file"
   ]
  },
  {
   "cell_type": "code",
   "execution_count": null,
   "metadata": {},
   "outputs": [],
   "source": [
    "print(\"\\nWriting extracted features to file: features.csv\")\n",
    "with open('features.csv', 'w') as f:\n",
    "    dataFrame = pd.DataFrame(featureDict)\n",
    "    dataFrame = dataFrame.T\n",
    "    dataFrame.to_csv(\"features.csv\")\n",
    "f.close()\n",
    "print(\"\\nFeatue file written\")"
   ]
  },
  {
   "cell_type": "markdown",
   "metadata": {},
   "source": [
    "### Step 3:\n",
    "### Train an SVM classifier"
   ]
  },
  {
   "cell_type": "markdown",
   "metadata": {},
   "source": [
    "##### Prepare data"
   ]
  },
  {
   "cell_type": "code",
   "execution_count": null,
   "metadata": {},
   "outputs": [],
   "source": [
    "csvPath = os.path.join(os.path.dirname(nbPath), \"features.csv\")\n",
    "dataset = pd.read_csv(self.dataPath)\n",
    "X = dataset.iloc[:, 1:-1].values\n",
    "Y = dataset.iloc[:, -1].values\n",
    "labelEncoder = LabelEncoder()\n",
    "Y = labelEncoder.fit_transform(Y)\n",
    "X_train, X_test, Y_train, Y_test = train_test_split(X, Y, test_size = 0.10, random_state = 0)"
   ]
  },
  {
   "cell_type": "markdown",
   "metadata": {},
   "source": [
    "##### Fit Classifier"
   ]
  },
  {
   "cell_type": "code",
   "execution_count": null,
   "metadata": {},
   "outputs": [],
   "source": [
    "classifier = SVC(kernel = 'linear', random_state = 0)\n",
    "classifier.fit(X_train, Y_train)"
   ]
  },
  {
   "cell_type": "markdown",
   "metadata": {},
   "source": [
    "##### Evaluate Classifier"
   ]
  },
  {
   "cell_type": "code",
   "execution_count": null,
   "metadata": {},
   "outputs": [],
   "source": [
    "Y_pred = classifier.predict(X_test)\n",
    "cm = confusion_matrix(Y_test, Y_pred)\n",
    "print(\"\\nConfusion Matrix for the trained model is :\")\n",
    "print(cm)\n",
    "print(\"\\nAccuracy of trained model is :\")\n",
    "print(accuracy_score(Y_test, Y_pred))"
   ]
  },
  {
   "cell_type": "code",
   "execution_count": null,
   "metadata": {},
   "outputs": [],
   "source": [
    "classifierEval = SVC(kernel = 'linear', random_state = 0)\n",
    "cv = KFold(n_splits=10, random_state=1, shuffle=True)\n",
    "scores = cross_val_score(classifierEval, X_train, Y_train, scoring='accuracy', cv=cv, n_jobs=-1)\n",
    "# report performance\n",
    "print('Accuracy: %.3f (%.3f)' % (mean(scores), std(scores)))"
   ]
  },
  {
   "cell_type": "markdown",
   "metadata": {},
   "source": [
    "### Step 4:\n",
    "### Check results on test folder"
   ]
  },
  {
   "cell_type": "code",
   "execution_count": null,
   "metadata": {},
   "outputs": [],
   "source": [
    "def getOneImageFeatures(path):\n",
    "    I = readImageFile(path)\n",
    "    features = model.predict(I)\n",
    "    return features"
   ]
  },
  {
   "cell_type": "code",
   "execution_count": null,
   "metadata": {},
   "outputs": [],
   "source": [
    "testFiles = glob.glob(os.path.join(testPath, \"*.tif\"))\n",
    "    for testFile in testFiles:\n",
    "        features = getOneImageFeatures(testFile)\n",
    "        prediction = classifier.predict(features)\n",
    "        print(\"Image file \"+ os.path.split(testFile)[1] + \"is predicted as :\" + labelEncoder.inverse_transform(prediction[0]))"
   ]
  }
 ],
 "metadata": {
  "kernelspec": {
   "display_name": "Python 3",
   "language": "python",
   "name": "python3"
  },
  "language_info": {
   "codemirror_mode": {
    "name": "ipython",
    "version": 3
   },
   "file_extension": ".py",
   "mimetype": "text/x-python",
   "name": "python",
   "nbconvert_exporter": "python",
   "pygments_lexer": "ipython3",
   "version": "3.8.2"
  }
 },
 "nbformat": 4,
 "nbformat_minor": 4
}
